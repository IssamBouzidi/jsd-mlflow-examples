{
 "cells": [
  {
   "cell_type": "code",
   "execution_count": 22,
   "metadata": {
    "collapsed": true
   },
   "outputs": [],
   "source": [
    "import sys\n",
    "import argparse\n",
    "\n",
    "sys.path.insert(1, \"/Users/jules/jsd-mlflow-examples/keras/keras_dnn/\")\n",
    "\n",
    "import train_nn"
   ]
  },
  {
   "cell_type": "markdown",
   "metadata": {},
   "source": [
    "This notebook easily imports your PyCharm Project or sources of your MLFlow project into a Jupyter notebook.Since the MLflow project is modular, you can import the modules and use as desired."
   ]
  },
  {
   "cell_type": "code",
   "execution_count": 23,
   "metadata": {},
   "outputs": [],
   "source": [
    "def parse_notebook_args(args_list=['--drop_rate', '0.3', '--output', '128']):\n",
    "    \n",
    "    parser = argparse.ArgumentParser()\n",
    "    parser.add_argument(\"--drop_rate\", help=\"Drop rate\", nargs='?', action='store', default=0.5, type=float)\n",
    "    parser.add_argument(\"--input_dim\", help=\"Input dimension for the network.\", action='store', nargs='?', default=20, type=int)\n",
    "    parser.add_argument(\"--bs\", help=\"Number of rows or size of the tensor\", action='store', nargs='?', default=1000, type=int)\n",
    "    parser.add_argument(\"--output\", help=\"Output from First & Hidden Layers\", action='store',  nargs='?', default=64, type=int)\n",
    "    parser.add_argument(\"--train_batch_size\", help=\"Training Batch Size\", nargs='?', action='store', default=128, type=int)\n",
    "    parser.add_argument(\"--epochs\", help=\"Number of epochs for training\", nargs='?', action='store', default=20, type=int)\n",
    "    \n",
    "    args = parser.parse_args(args_list)\n",
    "\n",
    "    print(\"drop_rate\", args.drop_rate)\n",
    "    print(\"input_dim\", args.input_dim)\n",
    "    print(\"size\", args.bs)\n",
    "    print(\"output\", args.output)\n",
    "    print(\"train_batch_size\", args.train_batch_size)\n",
    "    print(\"epochs\", args.epochs)\n",
    "    \n",
    "    return args"
   ]
  },
  {
   "cell_type": "code",
   "execution_count": 24,
   "metadata": {},
   "outputs": [
    {
     "name": "stdout",
     "output_type": "stream",
     "text": [
      "drop_rate 0.3\ninput_dim 20\nsize 1000\noutput 128\ntrain_batch_size 128\nepochs 20\n"
     ]
    }
   ],
   "source": [
    "args = parse_notebook_args(args_list=['--drop_rate', '0.3', '--output', '128'])"
   ]
  },
  {
   "cell_type": "code",
   "execution_count": 26,
   "metadata": {},
   "outputs": [
    {
     "name": "stdout",
     "output_type": "stream",
     "text": [
      "\r100/100 [==============================] - 0s 1ms/step\n"
     ]
    },
    {
     "name": "stdout",
     "output_type": "stream",
     "text": [
      "Test loss: 0.6923711895942688\nTest accuracy: 0.5799999833106995\nPredictions for Y:\n[[0.43289334]\n [0.3807274 ]\n [0.5159443 ]\n [0.45269233]\n [0.3808873 ]]\n_________________________________________________________________\nLayer (type)                 Output Shape              Param #   \n=================================================================\ndense_28 (Dense)             (None, 128)               2688      \n_________________________________________________________________\ndropout_19 (Dropout)         (None, 128)               0         \n_________________________________________________________________\ndense_29 (Dense)             (None, 128)               16512     \n_________________________________________________________________\ndropout_20 (Dropout)         (None, 128)               0         \n_________________________________________________________________\ndense_30 (Dense)             (None, 1)                 129       \n=================================================================\nTotal params: 19,329\nTrainable params: 19,329\nNon-trainable params: 0\n_________________________________________________________________\nThis model took 0.041011810302734375 seconds to train and test.\n[0.6923711895942688, 0.5799999833106995]\n"
     ]
    }
   ],
   "source": [
    "res = train_nn.train(args)\n",
    "print(res)"
   ]
  },
  {
   "cell_type": "code",
   "execution_count": 29,
   "metadata": {},
   "outputs": [
    {
     "name": "stdout",
     "output_type": "stream",
     "text": [
      "drop_rate 0.5\ninput_dim 20\nsize 1000\noutput 64\ntrain_batch_size 128\nepochs 20\n"
     ]
    },
    {
     "name": "stdout",
     "output_type": "stream",
     "text": [
      "\r100/100 [==============================] - 0s 2ms/step\n"
     ]
    },
    {
     "name": "stdout",
     "output_type": "stream",
     "text": [
      "Test loss: 0.6921364665031433\nTest accuracy: 0.550000011920929\nPredictions for Y:\n[[0.5512897 ]\n [0.56168234]\n [0.50920933]\n [0.53442365]\n [0.5349841 ]]\n_________________________________________________________________\nLayer (type)                 Output Shape              Param #   \n=================================================================\ndense_37 (Dense)             (None, 64)                1344      \n_________________________________________________________________\ndropout_25 (Dropout)         (None, 64)                0         \n_________________________________________________________________\ndense_38 (Dense)             (None, 64)                4160      \n_________________________________________________________________\ndropout_26 (Dropout)         (None, 64)                0         \n_________________________________________________________________\ndense_39 (Dense)             (None, 1)                 65        \n=================================================================\nTotal params: 5,569\nTrainable params: 5,569\nNon-trainable params: 0\n_________________________________________________________________\nThis model took 0.03718304634094238 seconds to train and test.\n"
     ]
    },
    {
     "name": "stdout",
     "output_type": "stream",
     "text": [
      "[0.6921364665031433, 0.550000011920929]\n"
     ]
    }
   ],
   "source": [
    "args = parse_notebook_args(args_list=['--drop_rate', '0.5', '--output', '64'])\n",
    "res = train_nn.train(args)\n",
    "print(res)"
   ]
  },
  {
   "cell_type": "code",
   "execution_count": 33,
   "metadata": {},
   "outputs": [
    {
     "name": "stdout",
     "output_type": "stream",
     "text": [
      "drop_rate 0.5\ninput_dim 20\nsize 1000\noutput 256\ntrain_batch_size 128\nepochs 20\n"
     ]
    },
    {
     "name": "stdout",
     "output_type": "stream",
     "text": [
      "\r100/100 [==============================] - 0s 2ms/step\n"
     ]
    },
    {
     "name": "stdout",
     "output_type": "stream",
     "text": [
      "Test loss: 0.6766371726989746\nTest accuracy: 0.5899999737739563\nPredictions for Y:\n"
     ]
    },
    {
     "name": "stdout",
     "output_type": "stream",
     "text": [
      "[[0.44264987]\n [0.5745346 ]\n [0.55280495]\n [0.50804174]\n [0.5555165 ]]\n_________________________________________________________________\nLayer (type)                 Output Shape              Param #   \n=================================================================\ndense_49 (Dense)             (None, 256)               5376      \n_________________________________________________________________\ndropout_33 (Dropout)         (None, 256)               0         \n_________________________________________________________________\ndense_50 (Dense)             (None, 256)               65792     \n_________________________________________________________________\ndropout_34 (Dropout)         (None, 256)               0         \n_________________________________________________________________\ndense_51 (Dense)             (None, 1)                 257       \n=================================================================\nTotal params: 71,425\nTrainable params: 71,425\nNon-trainable params: 0\n_________________________________________________________________\nThis model took 0.044409990310668945 seconds to train and test.\n[0.6766371726989746, 0.5899999737739563]\n"
     ]
    }
   ],
   "source": [
    "args = parse_notebook_args(args_list=['--drop_rate', '0.5', '--output', '256'])\n",
    "res = train_nn.train(args)\n",
    "print(res)"
   ]
  }
 ],
 "metadata": {
  "kernelspec": {
   "display_name": "Python 2",
   "language": "python",
   "name": "python2"
  },
  "language_info": {
   "codemirror_mode": {
    "name": "ipython",
    "version": 2
   },
   "file_extension": ".py",
   "mimetype": "text/x-python",
   "name": "python",
   "nbconvert_exporter": "python",
   "pygments_lexer": "ipython2",
   "version": "2.7.6"
  }
 },
 "nbformat": 4,
 "nbformat_minor": 0
}
