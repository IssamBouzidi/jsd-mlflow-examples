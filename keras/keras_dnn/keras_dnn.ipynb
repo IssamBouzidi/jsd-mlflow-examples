{
 "cells": [
  {
   "cell_type": "code",
   "execution_count": 34,
   "metadata": {
    "collapsed": true
   },
   "outputs": [],
   "source": [
    "import sys\n",
    "import os\n",
    "import argparse\n",
    "\n",
    "sys.path.insert(1, \"./keras_dnn/\")\n",
    "\n",
    "import train_nn"
   ]
  },
  {
   "cell_type": "markdown",
   "metadata": {},
   "source": [
    "This notebook easily imports your PyCharm Project or sources of your MLFlow project into a Jupyter notebook. Since the MLflow project is\n",
    "modular, you can import the modules and use as desired."
   ]
  },
  {
   "cell_type": "code",
   "execution_count": 35,
   "metadata": {},
   "outputs": [],
   "source": [
    "def parse_notebook_args(args_list=['--drop_rate', '0.3', '--output', '128']):\n",
    "    \n",
    "    parser = argparse.ArgumentParser()\n",
    "    parser.add_argument(\"--drop_rate\", help=\"Drop rate\", nargs='?', action='store', default=0.5, type=float)\n",
    "    parser.add_argument(\"--input_dim\", help=\"Input dimension for the network.\", action='store', nargs='?', default=20, type=int)\n",
    "    parser.add_argument(\"--bs\", help=\"Number of rows or size of the tensor\", action='store', nargs='?', default=1000, type=int)\n",
    "    parser.add_argument(\"--output\", help=\"Output from First & Hidden Layers\", action='store',  nargs='?', default=64, type=int)\n",
    "    parser.add_argument(\"--train_batch_size\", help=\"Training Batch Size\", nargs='?', action='store', default=128, type=int)\n",
    "    parser.add_argument(\"--epochs\", help=\"Number of epochs for training\", nargs='?', action='store', default=20, type=int)\n",
    "    \n",
    "    args = parser.parse_args(args_list)\n",
    "\n",
    "    print(\"drop_rate\", args.drop_rate)\n",
    "    print(\"input_dim\", args.input_dim)\n",
    "    print(\"size\", args.bs)\n",
    "    print(\"output\", args.output)\n",
    "    print(\"train_batch_size\", args.train_batch_size)\n",
    "    print(\"epochs\", args.epochs)\n",
    "    \n",
    "    return args\n"
   ]
  },
  {
   "cell_type": "code",
   "execution_count": 36,
   "metadata": {},
   "outputs": [
    {
     "name": "stdout",
     "output_type": "stream",
     "text": [
      "drop_rate 0.3\ninput_dim 20\nsize 1000\noutput 128\ntrain_batch_size 128\nepochs 20\n"
     ]
    }
   ],
   "source": [
    "args = parse_notebook_args(args_list=['--drop_rate', '0.3', '--output', '128'])"
   ]
  },
  {
   "cell_type": "code",
   "execution_count": 38,
   "metadata": {},
   "outputs": [
    {
     "name": "stdout",
     "output_type": "stream",
     "text": [
      "\r100/100 [==============================] - 0s 2ms/step\n"
     ]
    },
    {
     "name": "stdout",
     "output_type": "stream",
     "text": [
      "Test loss: 0.7107611298561096\nTest accuracy: 0.46000000834465027\nPredictions for Y:\n"
     ]
    },
    {
     "name": "stdout",
     "output_type": "stream",
     "text": [
      "[[0.40558943]\n [0.57035065]\n [0.47448897]\n [0.5434167 ]\n [0.48586258]]\n_________________________________________________________________\nLayer (type)                 Output Shape              Param #   \n=================================================================\ndense_49 (Dense)             (None, 128)               2688      \n_________________________________________________________________\ndropout_33 (Dropout)         (None, 128)               0         \n_________________________________________________________________\ndense_50 (Dense)             (None, 128)               16512     \n_________________________________________________________________\ndropout_34 (Dropout)         (None, 128)               0         \n_________________________________________________________________\ndense_51 (Dense)             (None, 1)                 129       \n=================================================================\nTotal params: 19,329\nTrainable params: 19,329\nNon-trainable params: 0\n_________________________________________________________________\nThis model took 0.03920388221740723 seconds to train and test.\n[0.7107611298561096, 0.46000000834465027]\n"
     ]
    }
   ],
   "source": [
    "res = train_nn.train(args)\n",
    "print(res)"
   ]
  },
  {
   "cell_type": "code",
   "execution_count": 40,
   "metadata": {},
   "outputs": [
    {
     "name": "stdout",
     "output_type": "stream",
     "text": [
      "drop_rate 0.5\ninput_dim 20\nsize 1000\noutput 64\ntrain_batch_size 128\nepochs 20\n"
     ]
    },
    {
     "name": "stdout",
     "output_type": "stream",
     "text": [
      "\r100/100 [==============================] - 0s 2ms/step\n"
     ]
    },
    {
     "name": "stdout",
     "output_type": "stream",
     "text": [
      "Test loss: 0.6931608319282532\nTest accuracy: 0.5\nPredictions for Y:\n"
     ]
    },
    {
     "name": "stdout",
     "output_type": "stream",
     "text": [
      "[[0.5284635 ]\n [0.5061767 ]\n [0.447301  ]\n [0.5111703 ]\n [0.43303606]]\n_________________________________________________________________\nLayer (type)                 Output Shape              Param #   \n=================================================================\ndense_55 (Dense)             (None, 64)                1344      \n_________________________________________________________________\ndropout_37 (Dropout)         (None, 64)                0         \n_________________________________________________________________\ndense_56 (Dense)             (None, 64)                4160      \n_________________________________________________________________\ndropout_38 (Dropout)         (None, 64)                0         \n_________________________________________________________________\ndense_57 (Dense)             (None, 1)                 65        \n=================================================================\nTotal params: 5,569\nTrainable params: 5,569\nNon-trainable params: 0\n_________________________________________________________________\nThis model took 0.0390169620513916 seconds to train and test.\n[0.6931608319282532, 0.5]\n"
     ]
    }
   ],
   "source": [
    "args = parse_notebook_args(args_list=['--drop_rate', '0.5', '--output', '64'])\n",
    "res = train_nn.train(args)\n",
    "print(res)"
   ]
  },
  {
   "cell_type": "code",
   "execution_count": 42,
   "metadata": {},
   "outputs": [
    {
     "name": "stdout",
     "output_type": "stream",
     "text": [
      "drop_rate 0.5\ninput_dim 20\nsize 1000\noutput 256\ntrain_batch_size 128\nepochs 20\n"
     ]
    },
    {
     "name": "stdout",
     "output_type": "stream",
     "text": [
      "\r100/100 [==============================] - 0s 3ms/step\n"
     ]
    },
    {
     "name": "stdout",
     "output_type": "stream",
     "text": [
      "Test loss: 0.6961999535560608\nTest accuracy: 0.47999998927116394\nPredictions for Y:\n"
     ]
    },
    {
     "name": "stdout",
     "output_type": "stream",
     "text": [
      "[[0.5004459 ]\n [0.50088066]\n [0.50075793]\n [0.5021563 ]\n [0.5124479 ]]\n_________________________________________________________________\nLayer (type)                 Output Shape              Param #   \n=================================================================\ndense_61 (Dense)             (None, 64)                1344      \n_________________________________________________________________\ndropout_41 (Dropout)         (None, 64)                0         \n_________________________________________________________________\ndense_62 (Dense)             (None, 64)                4160      \n_________________________________________________________________\ndropout_42 (Dropout)         (None, 64)                0         \n_________________________________________________________________\ndense_63 (Dense)             (None, 1)                 65        \n=================================================================\nTotal params: 5,569\nTrainable params: 5,569\nNon-trainable params: 0\n_________________________________________________________________\nThis model took 0.04027199745178223 seconds to train and test.\n[0.6961999535560608, 0.47999998927116394]\n"
     ]
    }
   ],
   "source": [
    "rgs = parse_notebook_args(args_list=['--drop_rate', '0.5', '--output', '256'])\n",
    "res = train_nn.train(args)\n",
    "print(res)"
   ]
  }
 ],
 "metadata": {
  "kernelspec": {
   "display_name": "Python 2",
   "language": "python",
   "name": "python2"
  },
  "language_info": {
   "codemirror_mode": {
    "name": "ipython",
    "version": 2
   },
   "file_extension": ".py",
   "mimetype": "text/x-python",
   "name": "python",
   "nbconvert_exporter": "python",
   "pygments_lexer": "ipython2",
   "version": "2.7.6"
  }
 },
 "nbformat": 4,
 "nbformat_minor": 0
}
