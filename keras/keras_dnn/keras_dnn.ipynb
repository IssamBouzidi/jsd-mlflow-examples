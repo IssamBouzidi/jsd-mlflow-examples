{
 "cells": [
  {
   "cell_type": "code",
   "execution_count": 2,
   "metadata": {
    "collapsed": true
   },
   "outputs": [
    {
     "name": "stderr",
     "output_type": "stream",
     "text": [
      "Using TensorFlow backend.\n"
     ]
    }
   ],
   "source": [
    "import sys\n",
    "import argparse\n",
    "\n",
    "sys.path.insert(1, \"/Users/jules/jsd-mlflow-examples/keras/keras_dnn/\")\n",
    "\n",
    "import train_nn"
   ]
  },
  {
   "cell_type": "code",
   "execution_count": 3,
   "metadata": {},
   "outputs": [],
   "source": [
    "def parse_notebook_args(args_list=['--drop_rate', '0.3', '--output', '128']):\n",
    "    \n",
    "    parser = argparse.ArgumentParser()\n",
    "    parser.add_argument(\"--drop_rate\", help=\"Drop rate\", nargs='?', action='store', default=0.5, type=float)\n",
    "    parser.add_argument(\"--input_dim\", help=\"Input dimension for the network.\", action='store', nargs='?', default=20, type=int)\n",
    "    parser.add_argument(\"--bs\", help=\"Number of rows or size of the tensor\", action='store', nargs='?', default=1000, type=int)\n",
    "    parser.add_argument(\"--output\", help=\"Output from First & Hidden Layers\", action='store',  nargs='?', default=64, type=int)\n",
    "    parser.add_argument(\"--train_batch_size\", help=\"Training Batch Size\", nargs='?', action='store', default=128, type=int)\n",
    "    parser.add_argument(\"--epochs\", help=\"Number of epochs for training\", nargs='?', action='store', default=20, type=int)\n",
    "    \n",
    "    args = parser.parse_args(args_list)\n",
    "\n",
    "    print(\"drop_rate\", args.drop_rate)\n",
    "    print(\"input_dim\", args.input_dim)\n",
    "    print(\"size\", args.bs)\n",
    "    print(\"output\", args.output)\n",
    "    print(\"train_batch_size\", args.train_batch_size)\n",
    "    print(\"epochs\", args.epochs)\n",
    "    \n",
    "    return args\n"
   ]
  },
  {
   "cell_type": "code",
   "execution_count": 4,
   "metadata": {},
   "outputs": [
    {
     "name": "stdout",
     "output_type": "stream",
     "text": [
      "drop_rate 0.3\ninput_dim 20\nsize 1000\noutput 128\ntrain_batch_size 128\nepochs 20\n"
     ]
    }
   ],
   "source": [
    "args = parse_notebook_args(args_list=['--drop_rate', '0.3', '--output', '128'])"
   ]
  },
  {
   "cell_type": "code",
   "execution_count": 5,
   "metadata": {},
   "outputs": [
    {
     "name": "stdout",
     "output_type": "stream",
     "text": [
      "\r100/100 [==============================] - 0s 302us/step\n"
     ]
    },
    {
     "name": "stdout",
     "output_type": "stream",
     "text": [
      "Test loss: 0.6810230016708374\nTest accuracy: 0.5899999737739563\nPredictions for Y:\n[[0.48535326]\n [0.41404262]\n [0.49194577]\n [0.43898472]\n [0.47998217]]\n_________________________________________________________________\nLayer (type)                 Output Shape              Param #   \n=================================================================\ndense_1 (Dense)              (None, 128)               2688      \n_________________________________________________________________\ndropout_1 (Dropout)          (None, 128)               0         \n_________________________________________________________________\ndense_2 (Dense)              (None, 128)               16512     \n_________________________________________________________________\ndropout_2 (Dropout)          (None, 128)               0         \n_________________________________________________________________\ndense_3 (Dense)              (None, 1)                 129       \n=================================================================\nTotal params: 19,329\nTrainable params: 19,329\nNon-trainable params: 0\n_________________________________________________________________\nThis model took 0.11755800247192383 seconds to train and test.\n[0.6810230016708374, 0.5899999737739563]\n"
     ]
    }
   ],
   "source": [
    "res = train_nn.train(args)\n",
    "print(res)"
   ]
  },
  {
   "cell_type": "code",
   "execution_count": 6,
   "metadata": {},
   "outputs": [
    {
     "name": "stdout",
     "output_type": "stream",
     "text": [
      "drop_rate 0.5\ninput_dim 20\nsize 1000\noutput 64\ntrain_batch_size 128\nepochs 20\n"
     ]
    },
    {
     "name": "stdout",
     "output_type": "stream",
     "text": [
      "\r100/100 [==============================] - 0s 399us/step\n"
     ]
    },
    {
     "name": "stdout",
     "output_type": "stream",
     "text": [
      "Test loss: 0.6969356536865234\nTest accuracy: 0.46000000834465027\nPredictions for Y:\n[[0.48836076]\n [0.4982955 ]\n [0.51764685]\n [0.50248224]\n [0.47997403]]\n_________________________________________________________________\nLayer (type)                 Output Shape              Param #   \n=================================================================\ndense_4 (Dense)              (None, 64)                1344      \n_________________________________________________________________\ndropout_3 (Dropout)          (None, 64)                0         \n_________________________________________________________________\ndense_5 (Dense)              (None, 64)                4160      \n_________________________________________________________________\ndropout_4 (Dropout)          (None, 64)                0         \n_________________________________________________________________\ndense_6 (Dense)              (None, 1)                 65        \n=================================================================\nTotal params: 5,569\nTrainable params: 5,569\nNon-trainable params: 0\n_________________________________________________________________\nThis model took 0.03890585899353027 seconds to train and test.\n[0.6969356536865234, 0.46000000834465027]\n"
     ]
    }
   ],
   "source": [
    "args = parse_notebook_args(args_list=['--drop_rate', '0.5', '--output', '64'])\n",
    "res = train_nn.train(args)\n",
    "print(res)"
   ]
  },
  {
   "cell_type": "code",
   "execution_count": 8,
   "metadata": {},
   "outputs": [
    {
     "name": "stdout",
     "output_type": "stream",
     "text": [
      "drop_rate 0.5\ninput_dim 20\nsize 1000\noutput 256\ntrain_batch_size 128\nepochs 20\n"
     ]
    },
    {
     "name": "stdout",
     "output_type": "stream",
     "text": [
      "\r100/100 [==============================] - 0s 590us/step\n"
     ]
    },
    {
     "name": "stdout",
     "output_type": "stream",
     "text": [
      "Test loss: 0.6936959624290466\nTest accuracy: 0.5299999713897705\nPredictions for Y:\n[[0.46025938]\n [0.5094354 ]\n [0.51939464]\n [0.50883424]\n [0.5409884 ]]\n_________________________________________________________________\nLayer (type)                 Output Shape              Param #   \n=================================================================\ndense_10 (Dense)             (None, 64)                1344      \n_________________________________________________________________\ndropout_7 (Dropout)          (None, 64)                0         \n_________________________________________________________________\ndense_11 (Dense)             (None, 64)                4160      \n_________________________________________________________________\ndropout_8 (Dropout)          (None, 64)                0         \n_________________________________________________________________\ndense_12 (Dense)             (None, 1)                 65        \n=================================================================\nTotal params: 5,569\nTrainable params: 5,569\nNon-trainable params: 0\n_________________________________________________________________\nThis model took 0.03826308250427246 seconds to train and test.\n[0.6936959624290466, 0.5299999713897705]\n"
     ]
    }
   ],
   "source": [
    "rgs = parse_notebook_args(args_list=['--drop_rate', '0.5', '--output', '256'])\n",
    "res = train_nn.train(args)\n",
    "print(res)"
   ]
  },
  {
   "cell_type": "code",
   "execution_count": null,
   "metadata": {},
   "outputs": [],
   "source": []
  }
 ],
 "metadata": {
  "kernelspec": {
   "display_name": "Python 2",
   "language": "python",
   "name": "python2"
  },
  "language_info": {
   "codemirror_mode": {
    "name": "ipython",
    "version": 2
   },
   "file_extension": ".py",
   "mimetype": "text/x-python",
   "name": "python",
   "nbconvert_exporter": "python",
   "pygments_lexer": "ipython2",
   "version": "2.7.6"
  }
 },
 "nbformat": 4,
 "nbformat_minor": 0
}
