{
 "cells": [
  {
   "cell_type": "code",
   "execution_count": 15,
   "metadata": {
    "collapsed": true
   },
   "outputs": [],
   "source": [
    "import sys\n",
    "import train_nn\n",
    "import argparse\n",
    "\n",
    "sys.path.insert(1, \"/Users/jules/jsd-mlflow-examples/keras/keras_dnn/\")\n"
   ]
  },
  {
   "cell_type": "code",
   "execution_count": 28,
   "metadata": {},
   "outputs": [
    {
     "name": "stdout",
     "output_type": "stream",
     "text": [
      "drop_rate 0.3\ninput_dim 20\nsize 1000\noutput 128\ntrain_batch_size 128\nepochs 20\n"
     ]
    }
   ],
   "source": [
    "parser = argparse.ArgumentParser()\n",
    "parser.add_argument(\"--drop_rate\", help=\"Drop rate\", nargs='?', action='store', default=0.5, type=float)\n",
    "parser.add_argument(\"--input_dim\", help=\"Input dimension for the network.\", action='store', nargs='?', default=20, type=int)\n",
    "parser.add_argument(\"--bs\", help=\"Number of rows or size of the tensor\", action='store', nargs='?', default=1000, type=int)\n",
    "parser.add_argument(\"--output\", help=\"Output from First & Hidden Layers\", action='store',  nargs='?', default=64, type=int)\n",
    "parser.add_argument(\"--train_batch_size\", help=\"Training Batch Size\", nargs='?', action='store', default=128, type=int)\n",
    "parser.add_argument(\"--epochs\", help=\"Number of epochs for training\", nargs='?', action='store', default=20, type=int)\n",
    "\n",
    "args = parser.parse_args(['--drop_rate', '0.3', '--output', '128'])\n",
    "\n",
    "\n",
    "print(\"drop_rate\", args.drop_rate)\n",
    "print(\"input_dim\", args.input_dim)\n",
    "print(\"size\", args.bs)\n",
    "print(\"output\", args.output)\n",
    "print(\"train_batch_size\", args.train_batch_size)\n",
    "print(\"epochs\", args.epochs)\n"
   ]
  },
  {
   "cell_type": "code",
   "execution_count": 29,
   "metadata": {},
   "outputs": [
    {
     "name": "stdout",
     "output_type": "stream",
     "text": [
      "\r100/100 [==============================] - 0s 393us/step\n"
     ]
    },
    {
     "name": "stdout",
     "output_type": "stream",
     "text": [
      "Test loss: 0.7196499705314636\nTest accuracy: 0.4399999976158142\nPredictions for Y:\n[[0.44375613]\n [0.5208648 ]\n [0.5197447 ]\n [0.47243825]\n [0.41583923]]\n_________________________________________________________________\nLayer (type)                 Output Shape              Param #   \n=================================================================\ndense_4 (Dense)              (None, 128)               2688      \n_________________________________________________________________\ndropout_3 (Dropout)          (None, 128)               0         \n_________________________________________________________________\ndense_5 (Dense)              (None, 128)               16512     \n_________________________________________________________________\ndropout_4 (Dropout)          (None, 128)               0         \n_________________________________________________________________\ndense_6 (Dense)              (None, 1)                 129       \n=================================================================\nTotal params: 19,329\nTrainable params: 19,329\nNon-trainable params: 0\n_________________________________________________________________\nThis model took 0.03763127326965332 seconds to train and test.\n[0.7196499705314636, 0.4399999976158142]\n"
     ]
    }
   ],
   "source": [
    "res = train_nn.train(args)\n",
    "print (res)"
   ]
  },
  {
   "cell_type": "code",
   "execution_count": 5,
   "metadata": {},
   "outputs": [],
   "source": []
  },
  {
   "cell_type": "code",
   "execution_count": null,
   "metadata": {},
   "outputs": [],
   "source": []
  }
 ],
 "metadata": {
  "kernelspec": {
   "display_name": "Python 2",
   "language": "python",
   "name": "python2"
  },
  "language_info": {
   "codemirror_mode": {
    "name": "ipython",
    "version": 2
   },
   "file_extension": ".py",
   "mimetype": "text/x-python",
   "name": "python",
   "nbconvert_exporter": "python",
   "pygments_lexer": "ipython2",
   "version": "2.7.6"
  }
 },
 "nbformat": 4,
 "nbformat_minor": 0
}
